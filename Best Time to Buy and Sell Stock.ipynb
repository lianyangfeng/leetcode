{
 "cells": [
  {
   "cell_type": "code",
   "execution_count": 1,
   "metadata": {
    "collapsed": false
   },
   "outputs": [
    {
     "data": {
      "text/plain": [
       "0"
      ]
     },
     "execution_count": 1,
     "metadata": {},
     "output_type": "execute_result"
    }
   ],
   "source": [
    "class Solution(object):\n",
    "    def maxProfit(self, prices):\n",
    "        \"\"\"\n",
    "        :type prices: List[int]\n",
    "        :rtype: int\n",
    "        \"\"\"\n",
    "        if len(prices)<2:\n",
    "            return 0\n",
    "        profit=0\n",
    "        buy=prices[0]\n",
    "        sell=0\n",
    "        for i in range(1,len(prices)):\n",
    "            if prices[i]<buy:\n",
    "                profit=max(profit,sell-buy)\n",
    "                buy=prices[i]\n",
    "                sell=0\n",
    "            if prices[i]>sell and prices[i]>buy:\n",
    "                sell=prices[i]\n",
    "        else:\n",
    "            profit=max(profit,sell-buy)\n",
    "        return profit\n",
    "s=Solution()\n",
    "a=range(10000,-1,-1)\n",
    "s.maxProfit(a)"
   ]
  },
  {
   "cell_type": "code",
   "execution_count": null,
   "metadata": {
    "collapsed": true
   },
   "outputs": [],
   "source": []
  }
 ],
 "metadata": {
  "kernelspec": {
   "display_name": "Python 2",
   "language": "python",
   "name": "python2"
  },
  "language_info": {
   "codemirror_mode": {
    "name": "ipython",
    "version": 2
   },
   "file_extension": ".py",
   "mimetype": "text/x-python",
   "name": "python",
   "nbconvert_exporter": "python",
   "pygments_lexer": "ipython2",
   "version": "2.7.11"
  }
 },
 "nbformat": 4,
 "nbformat_minor": 0
}
