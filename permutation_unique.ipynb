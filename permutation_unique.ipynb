{
 "cells": [
  {
   "cell_type": "code",
   "execution_count": 31,
   "metadata": {
    "collapsed": false
   },
   "outputs": [
    {
     "data": {
      "text/plain": [
       "[[1, 2, 3, 4],\n",
       " [2, 1, 3, 4],\n",
       " [3, 2, 1, 4],\n",
       " [4, 2, 3, 1],\n",
       " [1, 3, 2, 4],\n",
       " [1, 4, 3, 2],\n",
       " [2, 3, 1, 4],\n",
       " [2, 4, 3, 1],\n",
       " [3, 1, 2, 4],\n",
       " [3, 4, 1, 2],\n",
       " [4, 3, 2, 1],\n",
       " [4, 1, 3, 2],\n",
       " [1, 2, 4, 3],\n",
       " [2, 1, 4, 3],\n",
       " [3, 2, 4, 1],\n",
       " [4, 2, 1, 3],\n",
       " [1, 3, 4, 2],\n",
       " [1, 4, 2, 3],\n",
       " [2, 3, 4, 1],\n",
       " [2, 4, 1, 3],\n",
       " [3, 1, 4, 2],\n",
       " [3, 4, 2, 1],\n",
       " [4, 3, 1, 2],\n",
       " [4, 1, 2, 3]]"
      ]
     },
     "execution_count": 31,
     "metadata": {},
     "output_type": "execute_result"
    }
   ],
   "source": [
    "class Solution(object):\n",
    "    def permute(self, nums):\n",
    "        \"\"\"\n",
    "        :type nums: List[int]\n",
    "        :rtype: List[List[int]]\n",
    "        \"\"\"\n",
    "        nums=sorted(nums)\n",
    "        result=[nums]\n",
    "        i=0\n",
    "        \n",
    "        while i<len(nums)-1:\n",
    "            temp=[]\n",
    "            for b in result:\n",
    "                temp.append(b)\n",
    "            for r in temp:\n",
    "                for j in range(i+1,len(nums)):\n",
    "                    k=self.swap(i,j,r)\n",
    "                    if k not in result:\n",
    "                        result.append(k)\n",
    "            i+=1\n",
    "        return result\n",
    "    \n",
    "    def swap(self,i,j,nums):\n",
    "            nums=nums[:]\n",
    "            temp=nums[j]\n",
    "            nums[j]=nums[i]\n",
    "            nums[i]=temp\n",
    "            return nums\n",
    "        \n",
    "s=Solution()\n",
    "a=[1,2,3,4]\n",
    "s.permute(a)"
   ]
  },
  {
   "cell_type": "code",
   "execution_count": 28,
   "metadata": {
    "collapsed": false
   },
   "outputs": [
    {
     "data": {
      "text/plain": [
       "24"
      ]
     },
     "execution_count": 28,
     "metadata": {},
     "output_type": "execute_result"
    }
   ],
   "source": [
    "len(_)"
   ]
  },
  {
   "cell_type": "code",
   "execution_count": null,
   "metadata": {
    "collapsed": true
   },
   "outputs": [],
   "source": []
  }
 ],
 "metadata": {
  "kernelspec": {
   "display_name": "Python 2",
   "language": "python",
   "name": "python2"
  },
  "language_info": {
   "codemirror_mode": {
    "name": "ipython",
    "version": 2
   },
   "file_extension": ".py",
   "mimetype": "text/x-python",
   "name": "python",
   "nbconvert_exporter": "python",
   "pygments_lexer": "ipython2",
   "version": "2.7.11"
  }
 },
 "nbformat": 4,
 "nbformat_minor": 0
}
