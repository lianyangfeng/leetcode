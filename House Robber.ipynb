{
 "cells": [
  {
   "cell_type": "code",
   "execution_count": 6,
   "metadata": {
    "collapsed": false
   },
   "outputs": [
    {
     "data": {
      "text/plain": [
       "19"
      ]
     },
     "execution_count": 6,
     "metadata": {},
     "output_type": "execute_result"
    }
   ],
   "source": [
    "class Solution:\n",
    "    # @param num, a list of integer\n",
    "    # @return an integer\n",
    "    def rob(self, num):\n",
    "        if not num:\n",
    "            return 0\n",
    "        record = []\n",
    "        for i, e in enumerate(num):\n",
    "            if record and len(record)>=2:\n",
    "                record.append(e+max(record[:i-1]))\n",
    "            else:\n",
    "                record.append(e)\n",
    "        return max(record)\n",
    "s=Solution()\n",
    "s.rob([1,1,9,1,1,9])"
   ]
  },
  {
   "cell_type": "code",
   "execution_count": null,
   "metadata": {
    "collapsed": true
   },
   "outputs": [],
   "source": []
  }
 ],
 "metadata": {
  "kernelspec": {
   "display_name": "Python 2",
   "language": "python",
   "name": "python2"
  },
  "language_info": {
   "codemirror_mode": {
    "name": "ipython",
    "version": 2
   },
   "file_extension": ".py",
   "mimetype": "text/x-python",
   "name": "python",
   "nbconvert_exporter": "python",
   "pygments_lexer": "ipython2",
   "version": "2.7.11"
  }
 },
 "nbformat": 4,
 "nbformat_minor": 0
}
