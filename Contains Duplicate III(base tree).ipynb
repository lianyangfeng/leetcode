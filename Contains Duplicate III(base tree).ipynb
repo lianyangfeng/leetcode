{
 "cells": [
  {
   "cell_type": "code",
   "execution_count": 6,
   "metadata": {
    "collapsed": false
   },
   "outputs": [
    {
     "name": "stdout",
     "output_type": "stream",
     "text": [
      "add 1\n",
      "add 2\n",
      "add 3\n",
      "add 4\n",
      "add 5\n",
      "add 4\n",
      "add 5\n",
      "add 6\n",
      "add 7\n",
      "add 8\n",
      "del 1\n",
      "del 2\n",
      "del 3\n",
      "add -2\n",
      "add -1\n",
      "add 0\n",
      "add 1\n",
      "add 2\n"
     ]
    },
    {
     "data": {
      "text/plain": [
       "True"
      ]
     },
     "execution_count": 6,
     "metadata": {},
     "output_type": "execute_result"
    }
   ],
   "source": [
    "class Solution(object):\n",
    "    def containsNearbyAlmostDuplicate(self, nums, k, t):\n",
    "        \"\"\"\n",
    "        :type nums: List[int]\n",
    "        :type k: int\n",
    "        :type t: int\n",
    "        :rtype: bool\n",
    "        \"\"\"\n",
    "        if k<1:\n",
    "            return False\n",
    "        stack=set()\n",
    "        for i in range(len(nums)):\n",
    "            if nums[i] in stack:\n",
    "                return True\n",
    "            if i>=k:\n",
    "                for j in range(nums[i-k]-t,nums[i-k]+t+1):\n",
    "                    if abs(j-nums[i-k+1])>t:\n",
    "#                        print 'del',j\n",
    "                        stack.remove(j)\n",
    "            for j in range(nums[i]-t,nums[i]+t+1):\n",
    "#                print 'add',j\n",
    "                stack.add(j)\n",
    "        else:\n",
    "            return False        \n",
    "s=Solution()\n",
    "s.containsNearbyAlmostDuplicate([3,6,0,4],2,2)"
   ]
  },
  {
   "cell_type": "code",
   "execution_count": null,
   "metadata": {
    "collapsed": true
   },
   "outputs": [],
   "source": []
  },
  {
   "cell_type": "code",
   "execution_count": null,
   "metadata": {
    "collapsed": true
   },
   "outputs": [],
   "source": []
  }
 ],
 "metadata": {
  "kernelspec": {
   "display_name": "Python 2",
   "language": "python",
   "name": "python2"
  },
  "language_info": {
   "codemirror_mode": {
    "name": "ipython",
    "version": 2
   },
   "file_extension": ".py",
   "mimetype": "text/x-python",
   "name": "python",
   "nbconvert_exporter": "python",
   "pygments_lexer": "ipython2",
   "version": "2.7.11"
  }
 },
 "nbformat": 4,
 "nbformat_minor": 0
}
