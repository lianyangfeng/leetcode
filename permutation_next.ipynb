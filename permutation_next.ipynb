{
 "cells": [
  {
   "cell_type": "code",
   "execution_count": 1,
   "metadata": {
    "collapsed": false
   },
   "outputs": [
    {
     "data": {
      "text/plain": [
       "[1, 3, 2, 4]"
      ]
     },
     "execution_count": 1,
     "metadata": {},
     "output_type": "execute_result"
    }
   ],
   "source": [
    "class Solution(object):\n",
    "    def nextPermutation(self, nums):\n",
    "        \"\"\"\n",
    "        :type nums: List[int]\n",
    "        :rtype: void Do not return anything, modify nums in-place instead.\n",
    "        \"\"\"\n",
    "        if nums[len(nums)-2] < nums[len(nums)-1]:\n",
    "            temp=nums[len(nums)-1]\n",
    "            nums[len(nums)-1]=nums[len(nums)-2]\n",
    "            nums[len(nums)-2]=temp\n",
    "        else:\n",
    "            for i in range(len(nums)-2,-1,-1):\n",
    "                if sorted(nums[i:],reverse=True)==nums[i:]:\n",
    "                    continue\n",
    "                else:\n",
    "                    self.reverse(nums,i+1)\n",
    "                    self.swap(i,nums)\n",
    "                    break\n",
    "            else:\n",
    "                self.reverse(nums,0)\n",
    "                \n",
    "    def reverse(self,nums,start):\n",
    "        i=start\n",
    "        j=len(nums)-1\n",
    "        while i<j:\n",
    "            temp=nums[i]\n",
    "            nums[i]=nums[j]\n",
    "            nums[j]=temp\n",
    "            i+=1\n",
    "            j-=1\n",
    "            \n",
    "    def swap(self,index,nums):\n",
    "        for i in range(index+1,len(nums)):\n",
    "            if nums[i]>nums[index]:\n",
    "                temp=nums[index]\n",
    "                nums[index]=nums[i]\n",
    "                nums[i]=temp\n",
    "                break\n",
    "\n",
    "a=Solution()\n",
    "b=[1,2,4,3]\n",
    "a.nextPermutation(b)\n",
    "b"
   ]
  },
  {
   "cell_type": "code",
   "execution_count": 1,
   "metadata": {
    "collapsed": false
   },
   "outputs": [
    {
     "data": {
      "text/plain": [
       "[10, 9, 8, 7, 6, 5, 4, 3, 2, 1]"
      ]
     },
     "execution_count": 1,
     "metadata": {},
     "output_type": "execute_result"
    }
   ],
   "source": [
    "range(10,0,-1)"
   ]
  },
  {
   "cell_type": "code",
   "execution_count": 5,
   "metadata": {
    "collapsed": false
   },
   "outputs": [
    {
     "data": {
      "text/plain": [
       "[5, 4, 3, 2, 1]"
      ]
     },
     "execution_count": 5,
     "metadata": {},
     "output_type": "execute_result"
    }
   ],
   "source": [
    "range(5,0,-1)"
   ]
  },
  {
   "cell_type": "code",
   "execution_count": null,
   "metadata": {
    "collapsed": true
   },
   "outputs": [],
   "source": []
  }
 ],
 "metadata": {
  "kernelspec": {
   "display_name": "Python 2",
   "language": "python",
   "name": "python2"
  },
  "language_info": {
   "codemirror_mode": {
    "name": "ipython",
    "version": 2
   },
   "file_extension": ".py",
   "mimetype": "text/x-python",
   "name": "python",
   "nbconvert_exporter": "python",
   "pygments_lexer": "ipython2",
   "version": "2.7.11"
  }
 },
 "nbformat": 4,
 "nbformat_minor": 0
}
