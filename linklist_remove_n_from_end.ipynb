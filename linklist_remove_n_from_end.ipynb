{
 "cells": [
  {
   "cell_type": "code",
   "execution_count": 17,
   "metadata": {
    "collapsed": true
   },
   "outputs": [],
   "source": [
    "# Definition for singly-linked list.\n",
    "class ListNode(object):\n",
    "    def __init__(self, x):\n",
    "        self.val = x\n",
    "        self.next = None\n",
    "head=cur=ListNode(0)\n",
    "for i in range(1,10):\n",
    "    cur.next=ListNode(i)\n",
    "    cur=cur.next\n",
    "class Solution(object):\n",
    "    def removeNthFromEnd(self, head, n):\n",
    "        \"\"\"\n",
    "        :type head: ListNode\n",
    "        :type n: int\n",
    "        :rtype: ListNode\n",
    "        \"\"\"\n",
    "        stack=[]\n",
    "        while head.next:\n",
    "            stack.append(head)\n",
    "            head=head.next\n",
    "        stack.append(head)\n",
    "        if len(stack)==1:\n",
    "            return None\n",
    "        else:\n",
    "            if n<len(stack) and n>1:\n",
    "                stack[-n-1].next=stack[-n+1]\n",
    "            elif n==1:\n",
    "                stack[-2].next=None\n",
    "            elif n==len(stack):\n",
    "                return stack[1]\n",
    "            return stack[0]\n",
    "s=Solution()\n",
    "head=s.removeNthFromEnd(head,10)"
   ]
  },
  {
   "cell_type": "code",
   "execution_count": 18,
   "metadata": {
    "collapsed": false
   },
   "outputs": [
    {
     "name": "stdout",
     "output_type": "stream",
     "text": [
      "1\n",
      "2\n",
      "3\n",
      "4\n",
      "5\n",
      "6\n",
      "7\n",
      "8\n",
      "9\n"
     ]
    }
   ],
   "source": [
    "\n",
    "while head.next:\n",
    "    print head.val\n",
    "    head=head.next\n",
    "else:\n",
    "    print head.val"
   ]
  },
  {
   "cell_type": "code",
   "execution_count": null,
   "metadata": {
    "collapsed": true
   },
   "outputs": [],
   "source": []
  }
 ],
 "metadata": {
  "kernelspec": {
   "display_name": "Python 2",
   "language": "python",
   "name": "python2"
  },
  "language_info": {
   "codemirror_mode": {
    "name": "ipython",
    "version": 2
   },
   "file_extension": ".py",
   "mimetype": "text/x-python",
   "name": "python",
   "nbconvert_exporter": "python",
   "pygments_lexer": "ipython2",
   "version": "2.7.11"
  }
 },
 "nbformat": 4,
 "nbformat_minor": 0
}
