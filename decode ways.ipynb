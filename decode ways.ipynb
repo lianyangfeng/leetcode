{
 "cells": [
  {
   "cell_type": "code",
   "execution_count": null,
   "metadata": {
    "collapsed": true
   },
   "outputs": [],
   "source": [
    "class Solution(object):\n",
    "    def numDecodings(self, s):\n",
    "        \"\"\"\n",
    "        :type s: str\n",
    "        :rtype: int\n",
    "        \"\"\"\n",
    "        if not s:\n",
    "            return 0\n",
    "        res = [0]*(len(s)+1)\n",
    "        res[0] = 1\n",
    "        for i in xrange(1, len(res)):\n",
    "            if int(s[i-1]) > 0:\n",
    "                res[i] += res[i-1]\n",
    "            if i > 1 and 9 < int(s[i-1])+int(s[i-2])*10 < 27:\n",
    "                res[i] += res[i-2]\n",
    "        return res[-1]"
   ]
  }
 ],
 "metadata": {
  "kernelspec": {
   "display_name": "Python 2",
   "language": "python",
   "name": "python2"
  },
  "language_info": {
   "codemirror_mode": {
    "name": "ipython",
    "version": 2
   },
   "file_extension": ".py",
   "mimetype": "text/x-python",
   "name": "python",
   "nbconvert_exporter": "python",
   "pygments_lexer": "ipython2",
   "version": "2.7.11"
  }
 },
 "nbformat": 4,
 "nbformat_minor": 0
}
