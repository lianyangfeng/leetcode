{
 "cells": [
  {
   "cell_type": "code",
   "execution_count": 23,
   "metadata": {
    "collapsed": false
   },
   "outputs": [
    {
     "data": {
      "text/plain": [
       "[['5', '1', '9', '7', '4', '8', '6', '3', '2'],\n",
       " ['7', '8', '3', '6', '5', '2', '4', '1', '9'],\n",
       " ['4', '2', '6', '1', '3', '9', '8', '7', '5'],\n",
       " ['3', '5', '7', '9', '8', '6', '2', '4', '1'],\n",
       " ['2', '6', '4', '3', '1', '7', '5', '9', '8'],\n",
       " ['1', '9', '8', '5', '2', '4', '3', '6', '7'],\n",
       " ['9', '7', '5', '8', '6', '3', '1', '2', '4'],\n",
       " ['8', '3', '2', '4', '9', '1', '7', '5', '6'],\n",
       " ['6', '4', '1', '2', '7', '5', '9', '8', '3']]"
      ]
     },
     "execution_count": 23,
     "metadata": {},
     "output_type": "execute_result"
    }
   ],
   "source": [
    "class Solution(object):\n",
    "    NUMS = set(map(str, range(1,10)))\n",
    "    def solveSudoku(self, board):\n",
    "        \"\"\"\n",
    "        :type board: List[List[str]]\n",
    "        :rtype: void Do not return anything, modify board in-place instead.\n",
    "        \"\"\"\n",
    "        board = map(list, board)\n",
    "        self.empty_positions = []\n",
    "        for i in xrange(9):\n",
    "            for j in xrange(9):\n",
    "                if board[i][j] == '.':\n",
    "                    self.empty_positions.append((i, j))\n",
    "        self.__helper(board, 0)\n",
    "        return board\n",
    "        \n",
    "    def __helper(self, board, i):\n",
    "        if i == len(self.empty_positions):\n",
    "            return True\n",
    "        x, y = self.empty_positions[i]\n",
    "        line = board[x]\n",
    "        column = map(lambda m:m[y], board)\n",
    "        square = reduce(lambda x, y:x+y, \n",
    "                        map(lambda m:m[y/3*3:y/3*3+3], board[x/3*3:x/3*3+3]))\n",
    "        valid_values = self.NUMS-set(line+column+square)\n",
    "        if not valid_values:\n",
    "            return False\n",
    "        for value in valid_values:\n",
    "            board[x][y] = value\n",
    "            if self.__helper(board, i+1):\n",
    "                return True\n",
    "        board[x][y] = '.'\n",
    "            \n",
    "    \"\"\"    \n",
    "    def has_duplicate(self, str_list):\n",
    "        nums = filter(lambda x:x != '.', str_list)\n",
    "        if len(set(nums)) < len(nums):\n",
    "            return True\n",
    "        else:\n",
    "            return False\n",
    "        \n",
    "    def is_valid(self, board):\n",
    "        for i in xrange(8):\n",
    "            if self.has_duplicate(board[i]):\n",
    "                return False\n",
    "        for j in xrange(8):\n",
    "            if self.has_duplicate(map(lambda x:x[j], board)):\n",
    "                return False\n",
    "        for k in xrange(3):\n",
    "            for l in xrange(3):\n",
    "                square = map(lambda x:x[l*3:l*3+3], board[i*3:i*3+3])\n",
    "                if self.has_duplicate(reduce(lambda x, y:x+y, square)):\n",
    "                    return False\n",
    "        return True\n",
    "                \n",
    "    \"\"\"    \n",
    "s = Solution()\n",
    "a = [\"..9748...\",\"7........\",\".2.1.9...\",\"..7...24.\",\".64.1.59.\",\".98...3..\",\"...8.3.2.\",\"........6\",\"...2759..\"]\n",
    "s.solveSudoku(a)"
   ]
  },
  {
   "cell_type": "code",
   "execution_count": null,
   "metadata": {
    "collapsed": true
   },
   "outputs": [],
   "source": []
  }
 ],
 "metadata": {
  "kernelspec": {
   "display_name": "Python 2",
   "language": "python",
   "name": "python2"
  },
  "language_info": {
   "codemirror_mode": {
    "name": "ipython",
    "version": 2
   },
   "file_extension": ".py",
   "mimetype": "text/x-python",
   "name": "python",
   "nbconvert_exporter": "python",
   "pygments_lexer": "ipython2",
   "version": "2.7.11"
  }
 },
 "nbformat": 4,
 "nbformat_minor": 0
}
