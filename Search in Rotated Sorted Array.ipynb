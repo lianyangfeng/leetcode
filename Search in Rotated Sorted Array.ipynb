{
 "cells": [
  {
   "cell_type": "code",
   "execution_count": null,
   "metadata": {
    "collapsed": true
   },
   "outputs": [],
   "source": [
    "class Solution(object):\n",
    "    def search(self, nums, target):\n",
    "        \"\"\"\n",
    "        :type nums: List[int]\n",
    "        :type target: int\n",
    "        :rtype: int\n",
    "        \"\"\"\n",
    "        if not nums:\n",
    "            return -1\n",
    "        start=0\n",
    "        end=len(nums)-1\n",
    "        while start+1<end:\n",
    "            mid=start+(end-start)/2\n",
    "            if target==nums[mid]:\n",
    "                return mid\n",
    "            if nums[start]<nums[mid]:\n",
    "                if nums[start]<=target<=nums[mid]:\n",
    "                    end=mid\n",
    "                else:\n",
    "                    start=mid\n",
    "            else:\n",
    "                if nums[mid]<=target<=nums[end]:\n",
    "                    start=mid\n",
    "                else:\n",
    "                    end=mid\n",
    "                \n",
    "        if nums[start]==target:\n",
    "            return start\n",
    "        elif nums[end]==target:\n",
    "            return end\n",
    "        return -1        "
   ]
  }
 ],
 "metadata": {
  "kernelspec": {
   "display_name": "Python 2",
   "language": "python",
   "name": "python2"
  },
  "language_info": {
   "codemirror_mode": {
    "name": "ipython",
    "version": 2
   },
   "file_extension": ".py",
   "mimetype": "text/x-python",
   "name": "python",
   "nbconvert_exporter": "python",
   "pygments_lexer": "ipython2",
   "version": "2.7.11"
  }
 },
 "nbformat": 4,
 "nbformat_minor": 0
}
