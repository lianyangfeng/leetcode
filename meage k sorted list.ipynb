{
 "cells": [
  {
   "cell_type":   "code",
   "execution_count": 35,
   "metadata": {
    "collapsed": false
   },
   "outputs": [],
   "source": [
    "# Definition for singly-linked list.\n",
    "class ListNode(object):\n",
    "    def __init__(self, x):\n",
    "        self.val = x\n",
    "        self.next = None\n",
    "a=[]\n",
    "b=[]\n",
    "for i in range(10):\n",
    "    a.append(ListNode(i))\n",
    "for i in range(9):\n",
    "    a[i].next=a[i+1]\n",
    "for i in range(10):\n",
    "    b.append(ListNode(i))\n",
    "for i in range(9):\n",
    "    b[i].next=b[i+1]\n",
    "class Solution(object):\n",
    "    def mergeKLists(self, lists):\n",
    "        \"\"\"\n",
    "        :type lists: List[ListNode]\n",
    "        :rtype: ListNode\n",
    "        \"\"\"\n",
    "        for i in lists[:]:\n",
    "            if not i:\n",
    "                lists.remove(i)\n",
    "        if not lists :\n",
    "            return None\n",
    "        stack=[]\n",
    "        for i in lists:\n",
    "            while i:\n",
    "                stack.append(i)\n",
    "                i=i.next\n",
    "        stack.sort(key = lambda x:x.val)\n",
    "        for i in range(len(stack)-1):\n",
    "            stack[i].next=stack[i+1]\n",
    "        stack[-1].next=None\n",
    "        return stack[0]\n",
    "s=Solution()\n",
    "c=s.mergeKLists([None,None])"
   ]
  },
  {
   "cell_type": "code",
   "execution_count": 41,
   "metadata": {
    "collapsed": false,
    "scrolled": true
   },
   "outputs": [],
   "source": [
    "a=[[1,2],[3,4]]\n",
    "b=[]\n",
    "for i in a:\n",
    "    b.append(i)"
   ]
  },
  {
   "cell_type": "code",
   "execution_count": 42,
   "metadata": {
    "collapsed": false
   },
   "outputs": [
    {
     "data": {
      "text/plain": [
       "[[1, 2], [3, 4]]"
      ]
     },
     "execution_count": 42,
     "metadata": {},
     "output_type": "execute_result"
    }
   ],
   "source": [
    "b"
   ]
  },
  {
   "cell_type": "code",
   "execution_count": 23,
   "metadata": {
    "collapsed": false
   },
   "outputs": [],
   "source": [
    "import numpy\n",
    "n=numpy.array([1,2])"
   ]
  },
  {
   "cell_type": "code",
   "execution_count": 29,
   "metadata": {
    "collapsed": false
   },
   "outputs": [
    {
     "data": {
      "text/plain": [
       "array([3, 4])"
      ]
     },
     "execution_count": 29,
     "metadata": {},
     "output_type": "execute_result"
    }
   ],
   "source": [
    "n+2"
   ]
  },
  {
   "cell_type": "code",
   "execution_count": null,
   "metadata": {
    "collapsed": true
   },
   "outputs": [],
   "source": []
  }
 ],
 "metadata": {
  "kernelspec": {
   "display_name": "Python 2",
   "language": "python",
   "name": "python2"
  },
  "language_info": {
   "codemirror_mode": {
    "name": "ipython",
    "version": 2
   },
   "file_extension": ".py",
   "mimetype": "text/x-python",
   "name": "python",
   "nbconvert_exporter": "python",
   "pygments_lexer": "ipython2",
   "version": "2.7.11"
  }
 },
 "nbformat": 4,
 "nbformat_minor": 0
}
