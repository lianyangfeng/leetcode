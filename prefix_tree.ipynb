{
 "cells": [
  {
   "cell_type": "code",
   "execution_count": 47,
   "metadata": {
    "collapsed": true
   },
   "outputs": [],
   "source": [
    "import string\n",
    "class TrieNode(object):\n",
    "    def __init__(self):\n",
    "        \"\"\"\n",
    "        Initialize your data structure here.\n",
    "        \"\"\"\n",
    "        self.is_end=True\n",
    "        self.links=[None]*26\n",
    "\n",
    "class Trie(object):\n",
    "\n",
    "    def __init__(self):\n",
    "        self.root = TrieNode()\n",
    "\n",
    "    def insert(self, word):\n",
    "        \"\"\"\n",
    "        Inserts a word into the trie.\n",
    "        :type word: str\n",
    "        :rtype: void\n",
    "        \"\"\"\n",
    "        cur=self.root\n",
    "        for i in word:\n",
    "            i=ord(i)-97\n",
    "            if cur.links[i]:\n",
    "                cur.is_end=False\n",
    "                cur=cur.links[i]\n",
    "            else:\n",
    "                cur.links[i]=TrieNode()\n",
    "                cur.links[i].is_end=False\n",
    "                cur=cur.links[i]\n",
    "        else:\n",
    "            cur.is_end=True\n",
    "\n",
    "    def search(self, word):\n",
    "        \"\"\"\n",
    "        Returns if the word is in the trie.\n",
    "        :type word: str\n",
    "        :rtype: bool\n",
    "        \"\"\"\n",
    "        cur=self.root\n",
    "        for i in word:\n",
    "            i=ord(i)-97\n",
    "            if not cur.links[i]:\n",
    "                return False\n",
    "            else:\n",
    "                cur=cur.links[i]\n",
    "        else:\n",
    "            if cur.is_end:\n",
    "                return True\n",
    "            else:\n",
    "                return False\n",
    "\n",
    "    def startsWith(self, prefix):\n",
    "        \"\"\"\n",
    "        Returns if there is any word in the trie\n",
    "        that starts with the given prefix.\n",
    "        :type prefix: str\n",
    "        :rtype: bool\n",
    "        \"\"\"\n",
    "        cur=self.root\n",
    "        for i in prefix:\n",
    "            i=ord(i)-97\n",
    "            if not cur.links[i]:\n",
    "                return False\n",
    "            else:\n",
    "                cur=cur.links[i]\n",
    "        else:\n",
    "            return True\n",
    "\n",
    "# Your Trie object will be instantiated and called as such:\n",
    "# trie = Trie()\n",
    "# trie.insert(\"somestring\")\n",
    "# trie.search(\"key\")"
   ]
  },
  {
   "cell_type": "code",
   "execution_count": 49,
   "metadata": {
    "collapsed": false
   },
   "outputs": [
    {
     "data": {
      "text/plain": [
       "True"
      ]
     },
     "execution_count": 49,
     "metadata": {},
     "output_type": "execute_result"
    }
   ],
   "source": [
    "t=Trie()\n",
    "t.insert('abc')\n",
    "t.insert('ab')\n",
    "t.search('ab')"
   ]
  },
  {
   "cell_type": "code",
   "execution_count": 46,
   "metadata": {
    "collapsed": false
   },
   "outputs": [
    {
     "data": {
      "text/plain": [
       "u'b'"
      ]
     },
     "execution_count": 46,
     "metadata": {},
     "output_type": "execute_result"
    }
   ],
   "source": [
    "unichr(98)"
   ]
  },
  {
   "cell_type": "code",
   "execution_count": null,
   "metadata": {
    "collapsed": true
   },
   "outputs": [],
   "source": []
  }
 ],
 "metadata": {
  "kernelspec": {
   "display_name": "Python 2",
   "language": "python",
   "name": "python2"
  },
  "language_info": {
   "codemirror_mode": {
    "name": "ipython",
    "version": 2
   },
   "file_extension": ".py",
   "mimetype": "text/x-python",
   "name": "python",
   "nbconvert_exporter": "python",
   "pygments_lexer": "ipython2",
   "version": "2.7.11"
  }
 },
 "nbformat": 4,
 "nbformat_minor": 0
}
