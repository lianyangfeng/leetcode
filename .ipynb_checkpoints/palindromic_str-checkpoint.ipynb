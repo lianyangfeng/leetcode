{
 "cells": [
  {
   "cell_type": "code",
   "execution_count": 11,
   "metadata": {
    "collapsed": false
   },
   "outputs": [
    {
     "data": {
      "text/plain": [
       "'baaab'"
      ]
     },
     "execution_count": 11,
     "metadata": {},
     "output_type": "execute_result"
    }
   ],
   "source": [
    "class Solution(object):\n",
    "    def longestPalindrome(self, s):\n",
    "        \"\"\"\n",
    "        :type s: str\n",
    "        :rtype: str\n",
    "        \"\"\"\n",
    "        if len(s)<2:\n",
    "            return s\n",
    "        twos=self.findTwo(s)\n",
    "        threes=[]\n",
    "        if len(s)>2:\n",
    "            threes=self.findThree(s)\n",
    "        length=0\n",
    "        ans=''\n",
    "        \n",
    "        for i in twos:\n",
    "            j=1\n",
    "            while i-j >= 0 and i+1+j < len(s):\n",
    "                if s[i-j] == s[i+1+j]:\n",
    "                    j+=1\n",
    "                else:\n",
    "                    if 2*j>length:\n",
    "                        ans=s[i-j+1:i+j+1]\n",
    "                        length=2*j\n",
    "                    break\n",
    "            else:\n",
    "                if 2*j>length:\n",
    "                    ans=s[i-j+1:i+j+1]\n",
    "                    length=2*j\n",
    "         \n",
    "        for i in threes:\n",
    "            j=1\n",
    "            while i-1-j >= 0 and i+1+j < len(s):\n",
    "                if s[i-1-j] == s[i+1+j]:\n",
    "                    j+=1\n",
    "                else:\n",
    "                    if 2*j+1>length:\n",
    "                        ans=s[i-j:i+j+1]\n",
    "                        length=2*j+1\n",
    "                    break\n",
    "            else:\n",
    "                if 2*j+1>length:\n",
    "                    ans=s[i-j:i+j+1]\n",
    "                    length=2*j+1\n",
    "        return ans\n",
    "        \n",
    "    def findTwo(self,s):\n",
    "        result=[]\n",
    "        for i in range(len(s)-1):\n",
    "            if s[i]==s[i+1]:\n",
    "                result.append(i)\n",
    "        return result\n",
    "    \n",
    "    def findThree(self,s):\n",
    "        result=[]\n",
    "        for i in range(1,len(s)-1):\n",
    "            if s[i-1]==s[i+1]:\n",
    "                result.append(i)\n",
    "        return result\n",
    "\n",
    "s=Solution()\n",
    "s.longestPalindrome('baaab')"
   ]
  },
  {
   "cell_type": "code",
   "execution_count": 1,
   "metadata": {
    "collapsed": false
   },
   "outputs": [
    {
     "data": {
      "text/plain": [
       "3"
      ]
     },
     "execution_count": 1,
     "metadata": {},
     "output_type": "execute_result"
    }
   ],
   "source": [
    "len('abc')"
   ]
  },
  {
   "cell_type": "code",
   "execution_count": 3,
   "metadata": {
    "collapsed": false
   },
   "outputs": [
    {
     "data": {
      "text/plain": [
       "'bc'"
      ]
     },
     "execution_count": 3,
     "metadata": {},
     "output_type": "execute_result"
    }
   ],
   "source": [
    "'abc'[1:3]"
   ]
  },
  {
   "cell_type": "code",
   "execution_count": null,
   "metadata": {
    "collapsed": true
   },
   "outputs": [],
   "source": []
  }
 ],
 "metadata": {
  "kernelspec": {
   "display_name": "Python 2",
   "language": "python",
   "name": "python2"
  },
  "language_info": {
   "codemirror_mode": {
    "name": "ipython",
    "version": 2
   },
   "file_extension": ".py",
   "mimetype": "text/x-python",
   "name": "python",
   "nbconvert_exporter": "python",
   "pygments_lexer": "ipython2",
   "version": "2.7.11"
  }
 },
 "nbformat": 4,
 "nbformat_minor": 0
}
