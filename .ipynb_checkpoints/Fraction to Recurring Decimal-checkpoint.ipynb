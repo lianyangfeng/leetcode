{
 "cells": [
  {
   "cell_type": "code",
   "execution_count": 8,
   "metadata": {
    "collapsed": true
   },
   "outputs": [],
   "source": [
    "class Solution(object):\n",
    "    def fractionToDecimal(self, numerator, denominator):\n",
    "        \"\"\"\n",
    "        :type numerator: int\n",
    "        :type denominator: int\n",
    "        :rtype: str\n",
    "        \"\"\"\n",
    "        stack=[]\n",
    "        remainders=[]\n",
    "        index=-1\n",
    "        \n",
    "        while True:\n",
    "            quotient,remainder=divmod(numerator,denomintor)\n",
    "            stack.append(quotient)\n",
    "            if remainder==0:\n",
    "                break\n",
    "            elif remainder in remainders:\n",
    "                index=remainders.index(remainder)\n",
    "                break\n",
    "            remainders.append(remainder)\n",
    "            numerator=remainder*10\n",
    "            \n",
    "        if len(stack)==1:\n",
    "            return str(stack[0])\n",
    "        \n",
    "        if index==-1:\n",
    "            fraction=''\n",
    "            for i in range(1,len(stack)):\n",
    "                fraction+=stack[i]\n",
    "            return'{}.{}'.format(str(stack[0]),fraction)\n",
    "        else:\n",
    "            fraction1=''\n",
    "            fraction2=''\n",
    "            for i in range(1,index+1):\n",
    "                fraction1+=stack[i]\n",
    "            for i in range(index+1,len(stack)):\n",
    "                fraction2+=stack[i]\n",
    "            return '{}.{}({})'.format(str(stack[0]),fraction1,fraction2)"
   ]
  },
  {
   "cell_type": "code",
   "execution_count": null,
   "metadata": {
    "collapsed": true
   },
   "outputs": [],
   "source": []
  }
 ],
 "metadata": {
  "kernelspec": {
   "display_name": "Python 2",
   "language": "python",
   "name": "python2"
  },
  "language_info": {
   "codemirror_mode": {
    "name": "ipython",
    "version": 2
   },
   "file_extension": ".py",
   "mimetype": "text/x-python",
   "name": "python",
   "nbconvert_exporter": "python",
   "pygments_lexer": "ipython2",
   "version": "2.7.11"
  }
 },
 "nbformat": 4,
 "nbformat_minor": 0
}
