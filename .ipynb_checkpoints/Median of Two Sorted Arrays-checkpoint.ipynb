{
 "cells": [
  {
   "cell_type": "code",
   "execution_count": 1,
   "metadata": {
    "collapsed": false
   },
   "outputs": [
    {
     "data": {
      "text/plain": [
       "2"
      ]
     },
     "execution_count": 1,
     "metadata": {},
     "output_type": "execute_result"
    }
   ],
   "source": [
    "class Solution(object):\n",
    "    def findMedianSortedArrays(self, nums1, nums2):\n",
    "        \"\"\"\n",
    "        :type nums1: List[int]\n",
    "        :type nums2: List[int]\n",
    "        :rtype: float\n",
    "        \"\"\"\n",
    "        if not nums1:\n",
    "            if len(nums2)%2==0:\n",
    "                return float(nums2[len(nums2)/2-1]+nums2[len(nums2)/2])/2\n",
    "            else:\n",
    "                return nums2[len(nums2)/2]\n",
    "        if not nums2:\n",
    "            if len(nums1)%2==0:\n",
    "                return float(nums1[len(nums1)/2-1]+nums1[len(nums1)/2])/2\n",
    "            else:\n",
    "                return nums1[len(nums1)/2]\n",
    "        start1=0\n",
    "        end1=len(nums1)-1\n",
    "        start2=0\n",
    "        end2=len(nums2)-1\n",
    "    def __findKthValue(self,list1,list2,k):\n",
    "        if not list1:\n",
    "            return list2[k-1]\n",
    "        if not list2:\n",
    "            return list1[k-1]\n",
    "        if k==1:\n",
    "            return min(list1[0],list2[0])\n",
    "        "
   ]
  },
  {
   "cell_type": "code",
   "execution_count": null,
   "metadata": {
    "collapsed": true
   },
   "outputs": [],
   "source": []
  }
 ],
 "metadata": {
  "kernelspec": {
   "display_name": "Python 2",
   "language": "python",
   "name": "python2"
  },
  "language_info": {
   "codemirror_mode": {
    "name": "ipython",
    "version": 2
   },
   "file_extension": ".py",
   "mimetype": "text/x-python",
   "name": "python",
   "nbconvert_exporter": "python",
   "pygments_lexer": "ipython2",
   "version": "2.7.11"
  }
 },
 "nbformat": 4,
 "nbformat_minor": 0
}
