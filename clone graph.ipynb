{
 "cells": [
  {
   "cell_type": "code",
   "execution_count": 1,
   "metadata": {
    "collapsed": true
   },
   "outputs": [],
   "source": [
    "# Definition for a undirected graph node\n",
    "# class UndirectedGraphNode:\n",
    "#     def __init__(self, x):\n",
    "#         self.label = x\n",
    "#         self.neighbors = []\n",
    "\n",
    "class Solution:\n",
    "    # @param node, a undirected graph node\n",
    "    # @return a undirected graph node\n",
    "    def cloneGraph(self, node):\n",
    "        if not node:\n",
    "            return node\n",
    "        cur = head = UndirectedGraphNode(node.label)\n",
    "        openSet = []\n",
    "        newNodes = []\n",
    "        closeSet = {node:cur}\n",
    "        for neighbor in node.neighbors:\n",
    "            openSet.append(neighbor)\n",
    "            newNode = UndirectedGraphNode(neighbor.label)\n",
    "            newNodes.append(newNode)\n",
    "            cur.neighbors.append(newNode)\n",
    "        while openSet:\n",
    "            temp = openSet.pop()\n",
    "            cur = newNodes.pop()\n",
    "            closeSet[temp] = cur\n",
    "            for neighbor in temp.neighbors:\n",
    "                if neighbor not in closeSet:\n",
    "                    openSet.append(neighbor)\n",
    "                    newNode = UndirectedGraphNode(neighbor.label)\n",
    "                    newNodes.append(newNode)\n",
    "                    cur.neighbors.append(newNode)\n",
    "                else:\n",
    "                    cur.neighbors.append(closeSet[neighbor])\n",
    "        return head\n"
   ]
  },
  {
   "cell_type": "code",
   "execution_count": null,
   "metadata": {
    "collapsed": true
   },
   "outputs": [],
   "source": []
  }
 ],
 "metadata": {
  "kernelspec": {
   "display_name": "Python 2",
   "language": "python",
   "name": "python2"
  },
  "language_info": {
   "codemirror_mode": {
    "name": "ipython",
    "version": 2
   },
   "file_extension": ".py",
   "mimetype": "text/x-python",
   "name": "python",
   "nbconvert_exporter": "python",
   "pygments_lexer": "ipython2",
   "version": "2.7.11"
  }
 },
 "nbformat": 4,
 "nbformat_minor": 0
}
